{
  "nbformat": 4,
  "nbformat_minor": 0,
  "metadata": {
    "colab": {
      "name": "Building financial article classifier.ipynb",
      "provenance": [],
      "collapsed_sections": [],
      "mount_file_id": "1Hz5m1JQryaEMiEDJuQ2N4jbgiziYFaLu",
      "authorship_tag": "ABX9TyPJ1/pTT4RZjY2MYL5VXWik",
      "include_colab_link": true
    },
    "kernelspec": {
      "name": "python3",
      "display_name": "Python 3"
    },
    "language_info": {
      "name": "python"
    }
  },
  "cells": [
    {
      "cell_type": "markdown",
      "metadata": {
        "id": "view-in-github",
        "colab_type": "text"
      },
      "source": [
        "<a href=\"https://colab.research.google.com/github/jlau78/ania-ai-study/blob/main/Building_financial_article_classifier.ipynb\" target=\"_parent\"><img src=\"https://colab.research.google.com/assets/colab-badge.svg\" alt=\"Open In Colab\"/></a>"
      ]
    },
    {
      "cell_type": "code",
      "execution_count": null,
      "metadata": {
        "id": "hwvBnEPqEmDK"
      },
      "outputs": [],
      "source": [
        "from sklearn.feature_extraction.text import TfidfVectorizer\n",
        "from sklearn.ensemble import  RandomForestClassifier\n",
        "from sklearn import preprocessing\n",
        "import pandas as pd\n",
        "import json\n",
        "import pickle\n",
        "\n"
      ]
    },
    {
      "cell_type": "code",
      "source": [
        "financial_corpus_df = pd.read_csv('/content/drive/MyDrive/Colab Notebooks/test_data_answer_key.csv')"
      ],
      "metadata": {
        "id": "4yPPth96FmvT"
      },
      "execution_count": null,
      "outputs": []
    },
    {
      "cell_type": "code",
      "source": [
        "financial_corpus_df"
      ],
      "metadata": {
        "colab": {
          "base_uri": "https://localhost:8080/",
          "height": 424
        },
        "id": "N7m57X38IJPM",
        "outputId": "bce0cb3a-facc-4f20-8b12-c977d8d0686d"
      },
      "execution_count": null,
      "outputs": [
        {
          "output_type": "execute_result",
          "data": {
            "text/plain": [
              "        id              category  \\\n",
              "0     7362  Mergers_Acquisitions   \n",
              "1     8241                   Oil   \n",
              "2     2513       Earning_Reports   \n",
              "3     2439       Earning_Reports   \n",
              "4      709               Capital   \n",
              "...    ...                   ...   \n",
              "2006  9723           Real_Estate   \n",
              "2007  3320               Economy   \n",
              "2008  7337  Mergers_Acquisitions   \n",
              "2009  8463                   Oil   \n",
              "2010  9656                Policy   \n",
              "\n",
              "                                                  title  \\\n",
              "0     New Blazers acquisitions expected to play this...   \n",
              "1     Oil tanker capable of carrying 2 million barre...   \n",
              "2     Japanese banks sound caution for earnings as O...   \n",
              "3     Gap Inc. (GPS): Kanye West Could Solve Their P...   \n",
              "4     Peloton drawing takeover interest after share ...   \n",
              "...                                                 ...   \n",
              "2006  Big Blue Swim School Seeks Prime Real Estate i...   \n",
              "2007  Eight-story student housing complex planned on...   \n",
              "2008  Microsoft’s acquisition of Activision Blizzard...   \n",
              "2009             Western Oil expansion blocked in court   \n",
              "2010  Will Wade complains about Vanderbilt getting f...   \n",
              "\n",
              "                                                   body  \n",
              "0                    This rumor is part of a storyline:  \n",
              "1     An oil tanker capable of carrying up to two mi...  \n",
              "2     People walk past a branch of Mitsubishi UFJ Fi...  \n",
              "3     Gap Inc (NYSE:GPS) is a retailer that sells cl...  \n",
              "4     Peloton Interactive Inc is evaluating interest...  \n",
              "...                                                 ...  \n",
              "2006                        For the love of franchising  \n",
              "2007  Two very different housing projects, one for f...  \n",
              "2008  Microsoft’s massive deal to acquire Activision...  \n",
              "2009  Your notification has been saved.\\n\\nThere was...  \n",
              "2010  Oh, no. He’s serious about this.\\n\\nA fan aske...  \n",
              "\n",
              "[2011 rows x 4 columns]"
            ],
            "text/html": [
              "\n",
              "  <div id=\"df-1fbcaf20-8af5-4c02-bafa-304d518276a4\">\n",
              "    <div class=\"colab-df-container\">\n",
              "      <div>\n",
              "<style scoped>\n",
              "    .dataframe tbody tr th:only-of-type {\n",
              "        vertical-align: middle;\n",
              "    }\n",
              "\n",
              "    .dataframe tbody tr th {\n",
              "        vertical-align: top;\n",
              "    }\n",
              "\n",
              "    .dataframe thead th {\n",
              "        text-align: right;\n",
              "    }\n",
              "</style>\n",
              "<table border=\"1\" class=\"dataframe\">\n",
              "  <thead>\n",
              "    <tr style=\"text-align: right;\">\n",
              "      <th></th>\n",
              "      <th>id</th>\n",
              "      <th>category</th>\n",
              "      <th>title</th>\n",
              "      <th>body</th>\n",
              "    </tr>\n",
              "  </thead>\n",
              "  <tbody>\n",
              "    <tr>\n",
              "      <th>0</th>\n",
              "      <td>7362</td>\n",
              "      <td>Mergers_Acquisitions</td>\n",
              "      <td>New Blazers acquisitions expected to play this...</td>\n",
              "      <td>This rumor is part of a storyline:</td>\n",
              "    </tr>\n",
              "    <tr>\n",
              "      <th>1</th>\n",
              "      <td>8241</td>\n",
              "      <td>Oil</td>\n",
              "      <td>Oil tanker capable of carrying 2 million barre...</td>\n",
              "      <td>An oil tanker capable of carrying up to two mi...</td>\n",
              "    </tr>\n",
              "    <tr>\n",
              "      <th>2</th>\n",
              "      <td>2513</td>\n",
              "      <td>Earning_Reports</td>\n",
              "      <td>Japanese banks sound caution for earnings as O...</td>\n",
              "      <td>People walk past a branch of Mitsubishi UFJ Fi...</td>\n",
              "    </tr>\n",
              "    <tr>\n",
              "      <th>3</th>\n",
              "      <td>2439</td>\n",
              "      <td>Earning_Reports</td>\n",
              "      <td>Gap Inc. (GPS): Kanye West Could Solve Their P...</td>\n",
              "      <td>Gap Inc (NYSE:GPS) is a retailer that sells cl...</td>\n",
              "    </tr>\n",
              "    <tr>\n",
              "      <th>4</th>\n",
              "      <td>709</td>\n",
              "      <td>Capital</td>\n",
              "      <td>Peloton drawing takeover interest after share ...</td>\n",
              "      <td>Peloton Interactive Inc is evaluating interest...</td>\n",
              "    </tr>\n",
              "    <tr>\n",
              "      <th>...</th>\n",
              "      <td>...</td>\n",
              "      <td>...</td>\n",
              "      <td>...</td>\n",
              "      <td>...</td>\n",
              "    </tr>\n",
              "    <tr>\n",
              "      <th>2006</th>\n",
              "      <td>9723</td>\n",
              "      <td>Real_Estate</td>\n",
              "      <td>Big Blue Swim School Seeks Prime Real Estate i...</td>\n",
              "      <td>For the love of franchising</td>\n",
              "    </tr>\n",
              "    <tr>\n",
              "      <th>2007</th>\n",
              "      <td>3320</td>\n",
              "      <td>Economy</td>\n",
              "      <td>Eight-story student housing complex planned on...</td>\n",
              "      <td>Two very different housing projects, one for f...</td>\n",
              "    </tr>\n",
              "    <tr>\n",
              "      <th>2008</th>\n",
              "      <td>7337</td>\n",
              "      <td>Mergers_Acquisitions</td>\n",
              "      <td>Microsoft’s acquisition of Activision Blizzard...</td>\n",
              "      <td>Microsoft’s massive deal to acquire Activision...</td>\n",
              "    </tr>\n",
              "    <tr>\n",
              "      <th>2009</th>\n",
              "      <td>8463</td>\n",
              "      <td>Oil</td>\n",
              "      <td>Western Oil expansion blocked in court</td>\n",
              "      <td>Your notification has been saved.\\n\\nThere was...</td>\n",
              "    </tr>\n",
              "    <tr>\n",
              "      <th>2010</th>\n",
              "      <td>9656</td>\n",
              "      <td>Policy</td>\n",
              "      <td>Will Wade complains about Vanderbilt getting f...</td>\n",
              "      <td>Oh, no. He’s serious about this.\\n\\nA fan aske...</td>\n",
              "    </tr>\n",
              "  </tbody>\n",
              "</table>\n",
              "<p>2011 rows × 4 columns</p>\n",
              "</div>\n",
              "      <button class=\"colab-df-convert\" onclick=\"convertToInteractive('df-1fbcaf20-8af5-4c02-bafa-304d518276a4')\"\n",
              "              title=\"Convert this dataframe to an interactive table.\"\n",
              "              style=\"display:none;\">\n",
              "        \n",
              "  <svg xmlns=\"http://www.w3.org/2000/svg\" height=\"24px\"viewBox=\"0 0 24 24\"\n",
              "       width=\"24px\">\n",
              "    <path d=\"M0 0h24v24H0V0z\" fill=\"none\"/>\n",
              "    <path d=\"M18.56 5.44l.94 2.06.94-2.06 2.06-.94-2.06-.94-.94-2.06-.94 2.06-2.06.94zm-11 1L8.5 8.5l.94-2.06 2.06-.94-2.06-.94L8.5 2.5l-.94 2.06-2.06.94zm10 10l.94 2.06.94-2.06 2.06-.94-2.06-.94-.94-2.06-.94 2.06-2.06.94z\"/><path d=\"M17.41 7.96l-1.37-1.37c-.4-.4-.92-.59-1.43-.59-.52 0-1.04.2-1.43.59L10.3 9.45l-7.72 7.72c-.78.78-.78 2.05 0 2.83L4 21.41c.39.39.9.59 1.41.59.51 0 1.02-.2 1.41-.59l7.78-7.78 2.81-2.81c.8-.78.8-2.07 0-2.86zM5.41 20L4 18.59l7.72-7.72 1.47 1.35L5.41 20z\"/>\n",
              "  </svg>\n",
              "      </button>\n",
              "      \n",
              "  <style>\n",
              "    .colab-df-container {\n",
              "      display:flex;\n",
              "      flex-wrap:wrap;\n",
              "      gap: 12px;\n",
              "    }\n",
              "\n",
              "    .colab-df-convert {\n",
              "      background-color: #E8F0FE;\n",
              "      border: none;\n",
              "      border-radius: 50%;\n",
              "      cursor: pointer;\n",
              "      display: none;\n",
              "      fill: #1967D2;\n",
              "      height: 32px;\n",
              "      padding: 0 0 0 0;\n",
              "      width: 32px;\n",
              "    }\n",
              "\n",
              "    .colab-df-convert:hover {\n",
              "      background-color: #E2EBFA;\n",
              "      box-shadow: 0px 1px 2px rgba(60, 64, 67, 0.3), 0px 1px 3px 1px rgba(60, 64, 67, 0.15);\n",
              "      fill: #174EA6;\n",
              "    }\n",
              "\n",
              "    [theme=dark] .colab-df-convert {\n",
              "      background-color: #3B4455;\n",
              "      fill: #D2E3FC;\n",
              "    }\n",
              "\n",
              "    [theme=dark] .colab-df-convert:hover {\n",
              "      background-color: #434B5C;\n",
              "      box-shadow: 0px 1px 3px 1px rgba(0, 0, 0, 0.15);\n",
              "      filter: drop-shadow(0px 1px 2px rgba(0, 0, 0, 0.3));\n",
              "      fill: #FFFFFF;\n",
              "    }\n",
              "  </style>\n",
              "\n",
              "      <script>\n",
              "        const buttonEl =\n",
              "          document.querySelector('#df-1fbcaf20-8af5-4c02-bafa-304d518276a4 button.colab-df-convert');\n",
              "        buttonEl.style.display =\n",
              "          google.colab.kernel.accessAllowed ? 'block' : 'none';\n",
              "\n",
              "        async function convertToInteractive(key) {\n",
              "          const element = document.querySelector('#df-1fbcaf20-8af5-4c02-bafa-304d518276a4');\n",
              "          const dataTable =\n",
              "            await google.colab.kernel.invokeFunction('convertToInteractive',\n",
              "                                                     [key], {});\n",
              "          if (!dataTable) return;\n",
              "\n",
              "          const docLinkHtml = 'Like what you see? Visit the ' +\n",
              "            '<a target=\"_blank\" href=https://colab.research.google.com/notebooks/data_table.ipynb>data table notebook</a>'\n",
              "            + ' to learn more about interactive tables.';\n",
              "          element.innerHTML = '';\n",
              "          dataTable['output_type'] = 'display_data';\n",
              "          await google.colab.output.renderOutput(dataTable, element);\n",
              "          const docLink = document.createElement('div');\n",
              "          docLink.innerHTML = docLinkHtml;\n",
              "          element.appendChild(docLink);\n",
              "        }\n",
              "      </script>\n",
              "    </div>\n",
              "  </div>\n",
              "  "
            ]
          },
          "metadata": {},
          "execution_count": 11
        }
      ]
    },
    {
      "cell_type": "code",
      "source": [
        "label_encoder = preprocessing.LabelEncoder()\n",
        "label_encoder.fit(financial_corpus_df['category'])\n",
        "financial_corpus_df['label'] = label_encoder.transform(financial_corpus_df['category'])\n"
      ],
      "metadata": {
        "id": "WAcJkFC4Nts5"
      },
      "execution_count": null,
      "outputs": []
    },
    {
      "cell_type": "code",
      "source": [
        "financial_corpus_df['label'].unique()"
      ],
      "metadata": {
        "colab": {
          "base_uri": "https://localhost:8080/"
        },
        "id": "1UhojjOvOkuz",
        "outputId": "bcf15d56-7423-4e52-b4a0-21c9419e97b1"
      },
      "execution_count": null,
      "outputs": [
        {
          "output_type": "execute_result",
          "data": {
            "text/plain": [
              "array([ 7,  8,  2,  0,  3,  4,  5,  9,  1,  6, 10])"
            ]
          },
          "metadata": {},
          "execution_count": 13
        }
      ]
    },
    {
      "cell_type": "code",
      "source": [
        "financial_corpus_df"
      ],
      "metadata": {
        "id": "GQSYsp--OvJJ"
      },
      "execution_count": null,
      "outputs": []
    },
    {
      "cell_type": "code",
      "source": [
        "finacial_corpus_df['category'].unique()"
      ],
      "metadata": {
        "id": "XAuCW3I_IWTE"
      },
      "execution_count": null,
      "outputs": []
    },
    {
      "cell_type": "code",
      "source": [
        "x = financial_corpus_df['body']\n",
        "y = financial_corpus_df['label']"
      ],
      "metadata": {
        "id": "vPMXHl8rPAcj"
      },
      "execution_count": null,
      "outputs": []
    },
    {
      "cell_type": "code",
      "source": [
        "vectorizer = TfidfVectorizer(stop_words = 'english', max_features=1000)\n",
        "vectorized_x = vectorizer.fit_transform(x)"
      ],
      "metadata": {
        "id": "kj6wA0P4PpNh"
      },
      "execution_count": null,
      "outputs": []
    },
    {
      "cell_type": "code",
      "source": [
        "rf_clf = RandomForestClassifier()\n",
        "rf_clf.fit(vectorized_x, y)"
      ],
      "metadata": {
        "colab": {
          "base_uri": "https://localhost:8080/"
        },
        "id": "F0KKPOjgQt0K",
        "outputId": "3006e2d0-a2c8-4e0b-c686-26079bd639b9"
      },
      "execution_count": null,
      "outputs": [
        {
          "output_type": "execute_result",
          "data": {
            "text/plain": [
              "RandomForestClassifier()"
            ]
          },
          "metadata": {},
          "execution_count": 19
        }
      ]
    },
    {
      "cell_type": "code",
      "source": [
        "pickle.dump(rf_clf, open('financial_text_classifier.pkl', 'wb'))\n",
        "pickle.dump(vectorizer, open('financial_text_vectorizer.pkl', 'wb'))\n",
        "pickle.dump(label_encoder, open('financial_text_encoder.pkl', 'wb'))"
      ],
      "metadata": {
        "id": "ZpoDXkLURDQn"
      },
      "execution_count": null,
      "outputs": []
    }
  ]
}